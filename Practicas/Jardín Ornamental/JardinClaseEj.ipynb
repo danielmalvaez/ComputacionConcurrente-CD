{
 "cells": [
  {
   "cell_type": "markdown",
   "metadata": {},
   "source": [
    "# Jardín Ornamental (Métodos Sincronización)\n",
    "\n",
    "AXEL DANIEL MALVÁEZ FLORES\n",
    "\n",
    "GABRIEL ZADQUIEL PERALTA RIONDA"
   ]
  },
  {
   "cell_type": "code",
   "execution_count": 22,
   "metadata": {},
   "outputs": [],
   "source": [
    "import multiprocess as mp\n",
    "import time"
   ]
  },
  {
   "cell_type": "code",
   "execution_count": 23,
   "metadata": {},
   "outputs": [],
   "source": [
    "#Creamos las funciones que ejecutaran nuestros procesos.\n",
    "def entrada1(val, n):\n",
    "  for i in range(n):\n",
    "    val.value += 1 #Value es una clase y tenemos que acceder a su atributo value.\n",
    "  \n",
    "# Con locks\n",
    "def entrada1c(val, n,lock):\n",
    "  for i in range(n):\n",
    "    lock.acquire()\n",
    "    valor = val.value\n",
    "    val.value = valor + 1 #Value es una clase y tenemos que acceder a su atributo value.\n",
    "    lock.release()\n",
    "\n",
    "# Con banderas\n",
    "def entrada1b(val, bandera, n):\n",
    "  while bandera.value == 1:\n",
    "    if bandera.value == 0:\n",
    "      break\n",
    "\n",
    "  bandera.value = 1\n",
    "  for i in range(n):\n",
    "    val.value += 1 #Value es una clase y tenemos que acceder a su atributo value.\n",
    "  bandera.value = 0\n",
    "\n",
    "# Con turnos solo para dos procesos\n",
    "def entrada1t(val,turno, n):\n",
    "  while turno.value != 1:\n",
    "    if turno.value == 1:\n",
    "      break\n",
    "  \n",
    "  for i in range(n):\n",
    "    val.value += 1 #Value es una clase y tenemos que acceder a su atributo value.\n",
    "  turno.value = 2"
   ]
  },
  {
   "cell_type": "markdown",
   "metadata": {},
   "source": [
    "## Implementación Secuencial"
   ]
  },
  {
   "cell_type": "code",
   "execution_count": 24,
   "metadata": {},
   "outputs": [],
   "source": [
    "def cuenta_personas(n):\n",
    "    cuenta = 0\n",
    "    for i in range(n):\n",
    "        cuenta = cuenta + 1    \n",
    "    return cuenta"
   ]
  },
  {
   "cell_type": "markdown",
   "metadata": {},
   "source": [
    "## Implementación Naive"
   ]
  },
  {
   "cell_type": "code",
   "execution_count": 25,
   "metadata": {},
   "outputs": [
    {
     "name": "stdout",
     "output_type": "stream",
     "text": [
      "40\n"
     ]
    }
   ],
   "source": [
    "#Creamos los procesos\n",
    "val = mp.Value('i',0) #Creamos un objeto de tipo value\n",
    "\n",
    "p1 = mp.Process(target=entrada1,args=(val,20,))\n",
    "p2 = mp.Process(target=entrada1,args=(val,20,))\n",
    "\n",
    "#Inicializamos los procesos.\n",
    "p1.start()\n",
    "p2.start()\n",
    "\n",
    "#Esperamos a que terminen los procesos.\n",
    "p1.join()\n",
    "p2.join()\n",
    "\n",
    "print(val.value)"
   ]
  },
  {
   "cell_type": "markdown",
   "metadata": {},
   "source": [
    "## Crash\n",
    "\n",
    "Esto se torna incorrecto a partir de incrementar los ciclos de nuestro ```for```."
   ]
  },
  {
   "cell_type": "code",
   "execution_count": 26,
   "metadata": {},
   "outputs": [
    {
     "name": "stdout",
     "output_type": "stream",
     "text": [
      "6349\n"
     ]
    }
   ],
   "source": [
    "#Creamos los procesos\n",
    "val = mp.Value('i',0) #Creamos un objeto de tipo value\n",
    "\n",
    "p1 = mp.Process(target=entrada1,args=(val,10000//2,))\n",
    "p2 = mp.Process(target=entrada1,args=(val,10000//2,))\n",
    "\n",
    "#Inicializamos los procesos.\n",
    "p1.start()\n",
    "p2.start()\n",
    "\n",
    "#Esperamos a que terminen los procesos.\n",
    "p1.join()\n",
    "p2.join()\n",
    "\n",
    "print(val.value)"
   ]
  },
  {
   "cell_type": "markdown",
   "metadata": {},
   "source": [
    "## Con procesos"
   ]
  },
  {
   "cell_type": "code",
   "execution_count": 27,
   "metadata": {},
   "outputs": [],
   "source": [
    "def jardin_procesos(n_pros=2, n_iter=20):\n",
    "    val = mp.Value('i',0) #Creamos un objeto de tipo value\n",
    "\n",
    "    #Creamos los procesos\n",
    "    procesos = []\n",
    "    for i in range(n_pros):\n",
    "        procesos.append(mp.Process(target=entrada1,args=(val,n_iter,)))\n",
    "\n",
    "    #Inicializamos los procesos.\n",
    "    for i in range(n_pros):\n",
    "        procesos[i].start()\n",
    "\n",
    "    #Esperamos a que terminen los procesos.\n",
    "    for i in range(n_pros):\n",
    "        procesos[i].join()\n",
    "\n",
    "    return val.value"
   ]
  },
  {
   "cell_type": "code",
   "execution_count": 28,
   "metadata": {},
   "outputs": [
    {
     "name": "stdout",
     "output_type": "stream",
     "text": [
      "40\n",
      "40\n",
      "Respuesta obtenida: 19044 y respuesta esperada: 100000\n"
     ]
    }
   ],
   "source": [
    "print(jardin_procesos())\n",
    "print(jardin_procesos(4, 40//4))\n",
    "a = jardin_procesos(10, 100000//10)\n",
    "print(f'Respuesta obtenida: {a} y respuesta esperada: {100000}')"
   ]
  },
  {
   "cell_type": "code",
   "execution_count": 29,
   "metadata": {},
   "outputs": [],
   "source": [
    "def calc_tiempo(funcion, n):\n",
    "    start = time.time()\n",
    "    valor = funcion(n)\n",
    "    end = time.time()\n",
    "    tiempo = end - start\n",
    "    return tiempo\n",
    "\n",
    "def calc_tiempo_p(funcion, procesos, iter):\n",
    "    start = time.time()\n",
    "    valor = funcion(procesos, iter)\n",
    "    end = time.time()\n",
    "    tiempo = end - start\n",
    "    return tiempo\n",
    "\n",
    "def calc_tiempo_t(funcion, iter):\n",
    "    start = time.time()\n",
    "    valor = funcion(iter)\n",
    "    end = time.time()\n",
    "    tiempo = end - start\n",
    "    return tiempo"
   ]
  },
  {
   "cell_type": "code",
   "execution_count": 30,
   "metadata": {},
   "outputs": [
    {
     "name": "stdout",
     "output_type": "stream",
     "text": [
      "Tiempo para nuestro algoritmo secuencial 0.000865936279296875\n",
      "Tiempo para nuestro algoritmo con 10 procesos 0.1991901397705078\n"
     ]
    }
   ],
   "source": [
    "pro = 10\n",
    "it = 10000\n",
    "print('Tiempo para nuestro algoritmo secuencial', calc_tiempo(cuenta_personas, it))\n",
    "print(f'Tiempo para nuestro algoritmo con {pro} procesos', calc_tiempo_p(jardin_procesos, pro, it//pro))"
   ]
  },
  {
   "cell_type": "markdown",
   "metadata": {},
   "source": [
    "## Implementación Jardín con candados\n",
    "\n",
    "La solución que presenta utilizar candados implica que se suspende la multitarea durante la sección \n",
    "crítica, es decir estamos perdiendo la velocidad de la concurrencia."
   ]
  },
  {
   "cell_type": "code",
   "execution_count": 31,
   "metadata": {},
   "outputs": [],
   "source": [
    "def jardin_procesos_candados(n_procesos=2, n_iter=20):\n",
    "    val = mp.Value('i',0) #Creamos un objeto de tipo value\n",
    "    lock = mp.Lock()\n",
    "    #Creamos los procesos\n",
    "    procesos = []\n",
    "    for i in range(n_procesos):\n",
    "        procesos.append(mp.Process(target=entrada1c,args=(val,n_iter,lock)))\n",
    "\n",
    "    #Inicializamos los procesos.\n",
    "    for i in range(n_procesos):\n",
    "        procesos[i].start()\n",
    "\n",
    "    #Esperamos a que terminen los procesos.\n",
    "    for i in range(n_procesos):\n",
    "        procesos[i].join()\n",
    "    \n",
    "    return val.value"
   ]
  },
  {
   "cell_type": "markdown",
   "metadata": {},
   "source": [
    "fallas y tiempos"
   ]
  },
  {
   "cell_type": "code",
   "execution_count": 32,
   "metadata": {},
   "outputs": [
    {
     "data": {
      "text/plain": [
       "1000000"
      ]
     },
     "execution_count": 32,
     "metadata": {},
     "output_type": "execute_result"
    }
   ],
   "source": [
    "jardin_procesos_candados(5, 1000000//5)"
   ]
  },
  {
   "cell_type": "code",
   "execution_count": 33,
   "metadata": {},
   "outputs": [
    {
     "name": "stdout",
     "output_type": "stream",
     "text": [
      "Tiempo que tarda con Locks: 1.5032892227172852\n",
      "Tiempo que tarda sin Locks: 1.7642860412597656\n"
     ]
    }
   ],
   "source": [
    "pro = 5\n",
    "it = 100000\n",
    "print('Tiempo que tarda con Locks:', calc_tiempo_p(jardin_procesos_candados,pro, it// pro))\n",
    "print('Tiempo que tarda sin Locks:', calc_tiempo_p(jardin_procesos,pro, it// pro))\n"
   ]
  },
  {
   "cell_type": "markdown",
   "metadata": {},
   "source": [
    "## Implementación con banderas"
   ]
  },
  {
   "cell_type": "code",
   "execution_count": 34,
   "metadata": {},
   "outputs": [],
   "source": [
    "def jardin_bandera(n_procesos=2, n_iter=20):\n",
    "  # Creamos la bandera y el value\n",
    "  bandera = mp.Value('i',0)\n",
    "  val = mp.Value('i',0)\n",
    "\n",
    "  procesos = []\n",
    "  for i in range(n_procesos):\n",
    "    procesos.append(mp.Process(target=entrada1b,args=(val, bandera, n_iter)))\n",
    "\n",
    "  for i in range(n_procesos):\n",
    "    procesos[i].start()\n",
    "\n",
    "  for i in range(n_procesos):\n",
    "    procesos[i].join()\n",
    "  \n",
    "  return val.value"
   ]
  },
  {
   "cell_type": "markdown",
   "metadata": {},
   "source": [
    "tiempo que tarda"
   ]
  },
  {
   "cell_type": "code",
   "execution_count": 35,
   "metadata": {},
   "outputs": [
    {
     "name": "stdout",
     "output_type": "stream",
     "text": [
      "Tiempo para nuestro algoritmo con 3 procesos y usando banderas 4.643049001693726\n"
     ]
    }
   ],
   "source": [
    "pro = 3\n",
    "it = 1000000\n",
    "print(f'Tiempo para nuestro algoritmo con {pro} procesos y usando banderas', calc_tiempo_p(jardin_bandera, pro, it//pro))"
   ]
  },
  {
   "cell_type": "markdown",
   "metadata": {},
   "source": [
    "## Implementación con banderas"
   ]
  },
  {
   "cell_type": "code",
   "execution_count": 36,
   "metadata": {},
   "outputs": [],
   "source": [
    "def jardin_turnos(n_iter):\n",
    "  turno = mp.Value('i',1)\n",
    "  val = mp.Value('i',0) #Creamos un objeto de tipo value\n",
    "  p1 = mp.Process(target=entrada1t,args=(val,turno, n_iter))\n",
    "  p2 = mp.Process(target=entrada1t,args=(val,turno, n_iter))  \n",
    "  p1.start()\n",
    "  p2.start()\n",
    "  p1.join()\n",
    "  p2.join()\n",
    "  return val.value"
   ]
  },
  {
   "cell_type": "markdown",
   "metadata": {},
   "source": [
    "tiempo que tarda"
   ]
  },
  {
   "cell_type": "code",
   "execution_count": 40,
   "metadata": {},
   "outputs": [
    {
     "name": "stdout",
     "output_type": "stream",
     "text": [
      "Tiempo para nuestro algoritmo con 3 procesos y usando turnos 0.7005190849304199\n"
     ]
    }
   ],
   "source": [
    "n = 100000\n",
    "print(f'Tiempo para nuestro algoritmo con {pro} procesos y usando turnos', calc_tiempo_t(jardin_turnos, n//2))"
   ]
  },
  {
   "cell_type": "markdown",
   "metadata": {},
   "source": [
    "## Implementación Peterson"
   ]
  }
 ],
 "metadata": {
  "kernelspec": {
   "display_name": "Python 3.9.12 ('base')",
   "language": "python",
   "name": "python3"
  },
  "language_info": {
   "codemirror_mode": {
    "name": "ipython",
    "version": 3
   },
   "file_extension": ".py",
   "mimetype": "text/x-python",
   "name": "python",
   "nbconvert_exporter": "python",
   "pygments_lexer": "ipython3",
   "version": "3.9.12"
  },
  "orig_nbformat": 4,
  "vscode": {
   "interpreter": {
    "hash": "6c0cb1f488f15cea3c982386fe947dc4e34776dbf252a008d041bec8bc285b28"
   }
  }
 },
 "nbformat": 4,
 "nbformat_minor": 2
}
