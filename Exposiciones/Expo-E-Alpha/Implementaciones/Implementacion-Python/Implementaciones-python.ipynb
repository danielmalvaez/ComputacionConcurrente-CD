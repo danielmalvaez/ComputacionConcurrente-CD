{
  "nbformat": 4,
  "nbformat_minor": 0,
  "metadata": {
    "colab": {
      "provenance": [],
      "collapsed_sections": []
    },
    "kernelspec": {
      "name": "python3",
      "display_name": "Python 3"
    },
    "language_info": {
      "name": "python"
    }
  },
  "cells": [
    {
      "cell_type": "markdown",
      "source": [
        "# Implementaciones de semáforos"
      ],
      "metadata": {
        "id": "XE_4URheV0sF"
      }
    },
    {
      "cell_type": "markdown",
      "source": [
        "## Implementación de un semáforo entero para resolver el problema de los borrachos."
      ],
      "metadata": {
        "id": "--lS7nctXLAu"
      }
    },
    {
      "cell_type": "code",
      "source": [
        "from time import sleep\n",
        "from random import random\n",
        "from multiprocessing import Process\n",
        "from multiprocessing import Semaphore\n",
        "def borracho(semaphore,number):\n",
        "    value = random()\n",
        "    sleep(value)\n",
        "    print(f'Soy el borracho {number} y necesito ir al baño')\n",
        "    with semaphore:\n",
        "        value = random()\n",
        "        sleep(value)\n",
        "        print(f'El borracho {number} ya fue al baño.')\n",
        "\n",
        "if __name__ == '__main__':\n",
        "    semaphore = Semaphore(1)\n",
        "    processes = [Process(target=borracho, args=(semaphore, i)) for i in range(1,11)]\n",
        "    for process in processes:\n",
        "        process.start()\n",
        "    for process in processes:\n",
        "        process.join()"
      ],
      "metadata": {
        "colab": {
          "base_uri": "https://localhost:8080/"
        },
        "id": "C4dfXChwV8LK",
        "outputId": "b9c8398f-db23-45a6-8e9d-07d50f5c264a"
      },
      "execution_count": null,
      "outputs": [
        {
          "output_type": "stream",
          "name": "stdout",
          "text": [
            "Soy el borracho 5 y necesito ir al baño\n",
            "Soy el borracho 10 y necesito ir al baño\n",
            "Soy el borracho 1 y necesito ir al baño\n",
            "Soy el borracho 8 y necesito ir al baño\n",
            "Soy el borracho 3 y necesito ir al baño\n",
            "Soy el borracho 7 y necesito ir al baño\n",
            "El borracho 5 ya fue al baño.Soy el borracho 4 y necesito ir al baño\n",
            "Soy el borracho 2 y necesito ir al baño\n",
            "El borracho 10 ya fue al baño.\n",
            "\n",
            "Soy el borracho 6 y necesito ir al baño\n",
            "Soy el borracho 9 y necesito ir al baño\n",
            "El borracho 1 ya fue al baño.\n",
            "El borracho 8 ya fue al baño.\n",
            "El borracho 3 ya fue al baño.\n",
            "El borracho 7 ya fue al baño.\n",
            "El borracho 2 ya fue al baño.\n",
            "El borracho 4 ya fue al baño.\n",
            "El borracho 6 ya fue al baño.\n",
            "El borracho 9 ya fue al baño.\n"
          ]
        }
      ]
    },
    {
      "cell_type": "markdown",
      "source": [
        "## Implementación de 2 procesos en una sección crítica"
      ],
      "metadata": {
        "id": "0-9i73rtXXr5"
      }
    },
    {
      "cell_type": "code",
      "source": [
        "from time import sleep\n",
        "from random import random\n",
        "from multiprocessing import Process\n",
        "from multiprocessing import Semaphore\n",
        "\n",
        "def tarea_internet(semaphore,number):\n",
        "    with semaphore:\n",
        "        print(f'Proceso {number} esta empezando su tarea.')\n",
        "        value = random()\n",
        "        sleep(value)\n",
        "        print(f'Proceso {number} termino su tarea.')\n",
        "if __name__ == '__main__':\n",
        "    semaphore = Semaphore(20)\n",
        "    processes = [Process(target=tarea_internet, args=(semaphore, i)) for i in range(1,11)]\n",
        "    for process in processes:\n",
        "        process.start()\n",
        "    for process in processes:\n",
        "        process.join()"
      ],
      "metadata": {
        "colab": {
          "base_uri": "https://localhost:8080/"
        },
        "id": "40dgaEoiWC-r",
        "outputId": "9d1ef475-61d0-46d9-a3fc-5917045f3c9a"
      },
      "execution_count": null,
      "outputs": [
        {
          "output_type": "stream",
          "name": "stdout",
          "text": [
            "Proceso 1 esta empezando su tarea.Proceso 2 esta empezando su tarea.\n",
            "\n",
            "Proceso 1 termino su tarea.\n",
            "Proceso 3 esta empezando su tarea.\n",
            "Proceso 2 termino su tarea.\n",
            "Proceso 4 esta empezando su tarea.\n",
            "Proceso 3 termino su tarea.\n",
            "Proceso 5 esta empezando su tarea.\n",
            "Proceso 4 termino su tarea.\n",
            "Proceso 6 esta empezando su tarea.\n",
            "Proceso 5 termino su tarea.\n",
            "Proceso 7 esta empezando su tarea.\n",
            "Proceso 6 termino su tarea.\n",
            "Proceso 8 esta empezando su tarea.\n",
            "Proceso 7 termino su tarea.\n",
            "Proceso 9 esta empezando su tarea.\n",
            "Proceso 8 termino su tarea.\n",
            "Proceso 10 esta empezando su tarea.\n",
            "Proceso 10 termino su tarea.\n",
            "Proceso 9 termino su tarea.\n"
          ]
        }
      ]
    },
    {
      "cell_type": "markdown",
      "source": [
        "# Implementación del problema del cocinero y del mesero. (Al estilo locks)"
      ],
      "metadata": {
        "id": "5vFV10S_Xk4B"
      }
    },
    {
      "cell_type": "code",
      "source": [
        "from time import sleep\n",
        "from random import random\n",
        "from threading import Thread\n",
        "from threading import Semaphore\n",
        "\n",
        "class cocinero():\n",
        "    def __init__(self):\n",
        "        self.preparo = False\n",
        "    \n",
        "    def prepara_comida(self, s):\n",
        "        s.acquire()\n",
        "        print('El cocinero esta preparando la comida.')\n",
        "        sleep(1)\n",
        "        print('El cocinero esta dando los toques finales')\n",
        "        sleep(1)\n",
        "        print('El cocinero termino de preparar el platillo.')\n",
        "        self.preparo = True\n",
        "        s.release()\n",
        "\n",
        "class mesero():\n",
        "    def __init__(self):\n",
        "        self.sirvio = False\n",
        "    \n",
        "    def sirve_comida(self, s):\n",
        "        s.acquire()\n",
        "        print('El mesero sirvio el platillo')\n",
        "        sleep(3)\n",
        "        self.sirvio = True\n",
        "        s.release()\n",
        "\n",
        "if __name__ == '__main__':\n",
        "\n",
        "    #Creamos nuestro semaforo\n",
        "    semaphore = Semaphore(1)\n",
        "\n",
        "    #Creamos nuestros objetos\n",
        "    mesero = mesero()\n",
        "    cocinero = cocinero()\n",
        "\n",
        "    n_it = 0\n",
        "    while True:\n",
        "        n_it = input('Ingresa el número de iteraciones:')\n",
        "        try:\n",
        "            n_it = int(n_it)\n",
        "            if n_it > 0:\n",
        "                break\n",
        "            else:\n",
        "                continue\n",
        "        except:\n",
        "            print('Valor incorrecto, ingresa de nuevo...')\n",
        "\n",
        "    for i in range(n_it):\n",
        "        #Creamos nuestros hilos\n",
        "        p1 = Thread(target=cocinero.prepara_comida, args=(semaphore,))\n",
        "        p2 = Thread(target=mesero.sirve_comida, args=(semaphore,))\n",
        "        p1.start()\n",
        "        p2.start()\n",
        "        p1.join()\n",
        "        p2.join()"
      ],
      "metadata": {
        "colab": {
          "base_uri": "https://localhost:8080/",
          "height": 1000
        },
        "id": "VeJobA_hWMBs",
        "outputId": "e3ac9736-7100-457f-fbbd-ffe829457a05"
      },
      "execution_count": null,
      "outputs": [
        {
          "output_type": "stream",
          "name": "stdout",
          "text": [
            "Ingresa el número de iteraciones:20\n",
            "El cocinero esta preparando la comida.\n",
            "El cocinero esta dando los toques finales\n",
            "El cocinero termino de preparar el platillo.\n",
            "El mesero sirvio el platillo\n",
            "El cocinero esta preparando la comida.\n",
            "El cocinero esta dando los toques finales\n",
            "El cocinero termino de preparar el platillo.\n",
            "El mesero sirvio el platillo\n",
            "El cocinero esta preparando la comida.\n",
            "El cocinero esta dando los toques finales\n",
            "El cocinero termino de preparar el platillo.\n",
            "El mesero sirvio el platillo\n",
            "El cocinero esta preparando la comida.\n",
            "El cocinero esta dando los toques finales\n",
            "El cocinero termino de preparar el platillo.\n",
            "El mesero sirvio el platillo\n",
            "El cocinero esta preparando la comida.\n",
            "El cocinero esta dando los toques finales\n",
            "El cocinero termino de preparar el platillo.\n",
            "El mesero sirvio el platillo\n",
            "El cocinero esta preparando la comida.\n",
            "El cocinero esta dando los toques finales\n",
            "El cocinero termino de preparar el platillo.\n",
            "El mesero sirvio el platillo\n",
            "El cocinero esta preparando la comida.\n",
            "El cocinero esta dando los toques finales\n",
            "El cocinero termino de preparar el platillo.\n",
            "El mesero sirvio el platillo\n",
            "El cocinero esta preparando la comida.\n",
            "El cocinero esta dando los toques finales\n",
            "El cocinero termino de preparar el platillo.\n",
            "El mesero sirvio el platillo\n",
            "El cocinero esta preparando la comida.\n",
            "El cocinero esta dando los toques finales\n",
            "El cocinero termino de preparar el platillo.\n",
            "El mesero sirvio el platillo\n",
            "El cocinero esta preparando la comida.\n",
            "El cocinero esta dando los toques finales\n",
            "El cocinero termino de preparar el platillo.\n",
            "El mesero sirvio el platillo\n",
            "El cocinero esta preparando la comida.\n",
            "El cocinero esta dando los toques finales\n",
            "El cocinero termino de preparar el platillo.\n",
            "El mesero sirvio el platillo\n",
            "El cocinero esta preparando la comida.\n",
            "El cocinero esta dando los toques finales\n",
            "El cocinero termino de preparar el platillo.\n",
            "El mesero sirvio el platillo\n",
            "El cocinero esta preparando la comida.\n",
            "El cocinero esta dando los toques finales\n",
            "El cocinero termino de preparar el platillo.\n",
            "El mesero sirvio el platillo\n",
            "El cocinero esta preparando la comida.\n",
            "El cocinero esta dando los toques finales\n",
            "El cocinero termino de preparar el platillo.\n",
            "El mesero sirvio el platillo\n",
            "El cocinero esta preparando la comida.\n",
            "El cocinero esta dando los toques finales\n",
            "El cocinero termino de preparar el platillo.\n",
            "El mesero sirvio el platillo\n",
            "El cocinero esta preparando la comida.\n",
            "El cocinero esta dando los toques finales\n",
            "El cocinero termino de preparar el platillo.\n",
            "El mesero sirvio el platillo\n",
            "El cocinero esta preparando la comida.\n",
            "El cocinero esta dando los toques finales\n",
            "El cocinero termino de preparar el platillo.\n",
            "El mesero sirvio el platillo\n",
            "El cocinero esta preparando la comida.\n",
            "El cocinero esta dando los toques finales\n",
            "El cocinero termino de preparar el platillo.\n",
            "El mesero sirvio el platillo\n",
            "El cocinero esta preparando la comida.\n",
            "El cocinero esta dando los toques finales\n",
            "El cocinero termino de preparar el platillo.\n",
            "El mesero sirvio el platillo\n"
          ]
        },
        {
          "output_type": "error",
          "ename": "KeyboardInterrupt",
          "evalue": "ignored",
          "traceback": [
            "\u001b[0;31m---------------------------------------------------------------------------\u001b[0m",
            "\u001b[0;31mKeyboardInterrupt\u001b[0m                         Traceback (most recent call last)",
            "\u001b[0;32m<ipython-input-4-7a94651d08cf>\u001b[0m in \u001b[0;36m<module>\u001b[0;34m\u001b[0m\n\u001b[1;32m     58\u001b[0m         \u001b[0mp2\u001b[0m\u001b[0;34m.\u001b[0m\u001b[0mstart\u001b[0m\u001b[0;34m(\u001b[0m\u001b[0;34m)\u001b[0m\u001b[0;34m\u001b[0m\u001b[0;34m\u001b[0m\u001b[0m\n\u001b[1;32m     59\u001b[0m         \u001b[0mp1\u001b[0m\u001b[0;34m.\u001b[0m\u001b[0mjoin\u001b[0m\u001b[0;34m(\u001b[0m\u001b[0;34m)\u001b[0m\u001b[0;34m\u001b[0m\u001b[0;34m\u001b[0m\u001b[0m\n\u001b[0;32m---> 60\u001b[0;31m         \u001b[0mp2\u001b[0m\u001b[0;34m.\u001b[0m\u001b[0mjoin\u001b[0m\u001b[0;34m(\u001b[0m\u001b[0;34m)\u001b[0m\u001b[0;34m\u001b[0m\u001b[0;34m\u001b[0m\u001b[0m\n\u001b[0m",
            "\u001b[0;32m/usr/lib/python3.7/threading.py\u001b[0m in \u001b[0;36mjoin\u001b[0;34m(self, timeout)\u001b[0m\n\u001b[1;32m   1042\u001b[0m \u001b[0;34m\u001b[0m\u001b[0m\n\u001b[1;32m   1043\u001b[0m         \u001b[0;32mif\u001b[0m \u001b[0mtimeout\u001b[0m \u001b[0;32mis\u001b[0m \u001b[0;32mNone\u001b[0m\u001b[0;34m:\u001b[0m\u001b[0;34m\u001b[0m\u001b[0;34m\u001b[0m\u001b[0m\n\u001b[0;32m-> 1044\u001b[0;31m             \u001b[0mself\u001b[0m\u001b[0;34m.\u001b[0m\u001b[0m_wait_for_tstate_lock\u001b[0m\u001b[0;34m(\u001b[0m\u001b[0;34m)\u001b[0m\u001b[0;34m\u001b[0m\u001b[0;34m\u001b[0m\u001b[0m\n\u001b[0m\u001b[1;32m   1045\u001b[0m         \u001b[0;32melse\u001b[0m\u001b[0;34m:\u001b[0m\u001b[0;34m\u001b[0m\u001b[0;34m\u001b[0m\u001b[0m\n\u001b[1;32m   1046\u001b[0m             \u001b[0;31m# the behavior of a negative timeout isn't documented, but\u001b[0m\u001b[0;34m\u001b[0m\u001b[0;34m\u001b[0m\u001b[0;34m\u001b[0m\u001b[0m\n",
            "\u001b[0;32m/usr/lib/python3.7/threading.py\u001b[0m in \u001b[0;36m_wait_for_tstate_lock\u001b[0;34m(self, block, timeout)\u001b[0m\n\u001b[1;32m   1058\u001b[0m         \u001b[0;32mif\u001b[0m \u001b[0mlock\u001b[0m \u001b[0;32mis\u001b[0m \u001b[0;32mNone\u001b[0m\u001b[0;34m:\u001b[0m  \u001b[0;31m# already determined that the C code is done\u001b[0m\u001b[0;34m\u001b[0m\u001b[0;34m\u001b[0m\u001b[0m\n\u001b[1;32m   1059\u001b[0m             \u001b[0;32massert\u001b[0m \u001b[0mself\u001b[0m\u001b[0;34m.\u001b[0m\u001b[0m_is_stopped\u001b[0m\u001b[0;34m\u001b[0m\u001b[0;34m\u001b[0m\u001b[0m\n\u001b[0;32m-> 1060\u001b[0;31m         \u001b[0;32melif\u001b[0m \u001b[0mlock\u001b[0m\u001b[0;34m.\u001b[0m\u001b[0macquire\u001b[0m\u001b[0;34m(\u001b[0m\u001b[0mblock\u001b[0m\u001b[0;34m,\u001b[0m \u001b[0mtimeout\u001b[0m\u001b[0;34m)\u001b[0m\u001b[0;34m:\u001b[0m\u001b[0;34m\u001b[0m\u001b[0;34m\u001b[0m\u001b[0m\n\u001b[0m\u001b[1;32m   1061\u001b[0m             \u001b[0mlock\u001b[0m\u001b[0;34m.\u001b[0m\u001b[0mrelease\u001b[0m\u001b[0;34m(\u001b[0m\u001b[0;34m)\u001b[0m\u001b[0;34m\u001b[0m\u001b[0;34m\u001b[0m\u001b[0m\n\u001b[1;32m   1062\u001b[0m             \u001b[0mself\u001b[0m\u001b[0;34m.\u001b[0m\u001b[0m_stop\u001b[0m\u001b[0;34m(\u001b[0m\u001b[0;34m)\u001b[0m\u001b[0;34m\u001b[0m\u001b[0;34m\u001b[0m\u001b[0m\n",
            "\u001b[0;31mKeyboardInterrupt\u001b[0m: "
          ]
        }
      ]
    }
  ]
}